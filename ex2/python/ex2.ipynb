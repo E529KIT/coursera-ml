{
 "cells": [
  {
   "cell_type": "markdown",
   "metadata": {},
   "source": [
    "# Programming Exercise 2: Logistic Regression\n",
    "# 1 Logistic Regression\n",
    "## 1.1 Visualizing the data"
   ]
  },
  {
   "cell_type": "code",
   "execution_count": 1,
   "metadata": {
    "collapsed": true
   },
   "outputs": [],
   "source": [
    "import csv\n",
    "\n",
    "xs = []\n",
    "ys = []\n",
    "with open('../matlab/ex2data1.txt') as f:\n",
    "    csv_reader = csv.reader(f)\n",
    "    for row in csv_reader:\n",
    "        assert len(row) == 3\n",
    "        xs.append(map(float, row[:-1]))\n",
    "        ys.append(int(row[-1]))"
   ]
  },
  {
   "cell_type": "code",
   "execution_count": 2,
   "metadata": {
    "collapsed": false
   },
   "outputs": [
    {
     "data": {
      "text/plain": [
       "<matplotlib.legend.Legend at 0x10bc8ae90>"
      ]
     },
     "execution_count": 2,
     "metadata": {},
     "output_type": "execute_result"
    },
    {
     "data": {
      "image/png": "[encoded data removed]",
      "text/plain": [
       "<matplotlib.figure.Figure at 0x10a797d10>"
      ]
     },
     "metadata": {},
     "output_type": "display_data"
    }
   ],
   "source": [
    "import matplotlib.pyplot as plt\n",
    "import numpy as np\n",
    "% matplotlib inline\n",
    "\n",
    "X = np.array(xs)\n",
    "y = np.array(ys)\n",
    "plt.scatter(X[y == 1, 0], X[y == 1, 1], color='b', label='Admitted')\n",
    "plt.scatter(X[y == 0, 0], X[y == 0, 1], color='r', label='Not admitted')\n",
    "plt.title('Figure 1: Scatter plot of training data')\n",
    "plt.xlabel('Exam 1 score')\n",
    "plt.ylabel('Exam 2 score')\n",
    "plt.legend()"
   ]
  },
  {
   "cell_type": "markdown",
   "metadata": {},
   "source": [
    "## 1.2 Implementation\n",
    "### 1.2.1 Warmup exercise: sigmoid function\n",
    "$h_\\theta(x) = g(\\theta^T x)$\n",
    "\n",
    "$g(z) = 1 / (1 + e^{-z})$"
   ]
  },
  {
   "cell_type": "code",
   "execution_count": 3,
   "metadata": {
    "collapsed": false
   },
   "outputs": [
    {
     "name": "stdout",
     "output_type": "stream",
     "text": [
      "0.5\n",
      "[ 0.26894142  0.5         0.73105858]\n"
     ]
    }
   ],
   "source": [
    "def sigmoid(z):\n",
    "    ### YOUR CODE HERE ###\n",
    "\n",
    "\n",
    "    ######################\n",
    "\n",
    "print sigmoid(0)\n",
    "print sigmoid(np.array([-1, 0, 1]))"
   ]
  },
  {
   "cell_type": "markdown",
   "metadata": {},
   "source": [
    "### 1.2.2 Cost function and gradient\n",
    "$J(\\theta) = \\frac{1}{m} \\sum_{i=1}^{m} [ -y^{(i)} \\log h_\\theta(x^{(i)}) - (1 - y^{(i)}) \\log (1 - h_\\theta(x^{(i)})) ]$\n",
    "\n",
    "$\\frac{\\partial J(\\theta)}{\\partial \\theta_j} = \\frac{1}{m} \\sum_{i=1}^{m} (h_\\theta(x^{(i)}) - y^{(i)}) x_j^{(i)}$"
   ]
  },
  {
   "cell_type": "code",
   "execution_count": 4,
   "metadata": {
    "collapsed": true
   },
   "outputs": [],
   "source": [
    "def cost_function(theta, X, y):\n",
    "    m, _ = X.shape\n",
    "    J = 0\n",
    "    grad = np.zeros(theta.shape)\n",
    "    h = sigmoid(np.dot(X, theta))\n",
    "    ### YOUR CODE HERE ###\n",
    "\n",
    "\n",
    "\n",
    "    ######################\n",
    "    return J, grad"
   ]
  },
  {
   "cell_type": "code",
   "execution_count": 5,
   "metadata": {
    "collapsed": false
   },
   "outputs": [
    {
     "name": "stdout",
     "output_type": "stream",
     "text": [
      "0.69314718056\n",
      "[[ -0.1       ]\n",
      " [-12.00921659]\n",
      " [-11.26284221]]\n"
     ]
    }
   ],
   "source": [
    "m = len(ys)\n",
    "X = np.column_stack((np.ones((m, 1)), np.array(xs)))\n",
    "_, n = X.shape\n",
    "y = np.array([ys]).T\n",
    "theta = np.zeros((n, 1))\n",
    "\n",
    "J, grad = cost_function(theta, X, y)\n",
    "print J\n",
    "print grad"
   ]
  },
  {
   "cell_type": "markdown",
   "metadata": {},
   "source": [
    "### 1.2.3 Learning parameters using fminunc\n",
    "cf. https://docs.scipy.org/doc/scipy-0.10.0/reference/tutorial/optimize.html"
   ]
  },
  {
   "cell_type": "code",
   "execution_count": 6,
   "metadata": {
    "collapsed": false
   },
   "outputs": [
    {
     "name": "stdout",
     "output_type": "stream",
     "text": [
      "Optimization terminated successfully.\n",
      "         Current function value: 0.203498\n",
      "         Iterations: 23\n",
      "         Function evaluations: 31\n",
      "         Gradient evaluations: 31\n",
      "[[-25.16133284]\n",
      " [  0.2062317 ]\n",
      " [  0.2014716 ]]\n"
     ]
    },
    {
     "name": "stderr",
     "output_type": "stream",
     "text": [
      "/Users/nakano/anaconda/lib/python2.7/site-packages/ipykernel/__main__.py:6: RuntimeWarning: divide by zero encountered in log\n"
     ]
    }
   ],
   "source": [
    "from scipy.optimize import fmin_bfgs  # It seems fmin_bfgs does not accept column vectors.\n",
    "\n",
    "### Note that this is inefficient! ###\n",
    "def cost(theta):\n",
    "    J, grad = cost_function(np.array([theta]).T, X, y)\n",
    "    return J\n",
    "\n",
    "def gradient(theta):\n",
    "    J, grad = cost_function(np.array([theta]).T, X, y)\n",
    "    return grad.T[0]\n",
    "\n",
    "theta = fmin_bfgs(cost, np.zeros(n), fprime=gradient)\n",
    "theta = np.array([theta]).T\n",
    "print theta"
   ]
  },
  {
   "cell_type": "markdown",
   "metadata": {},
   "source": [
    "### 1.2.4 Evaluating logistic regression"
   ]
  },
  {
   "cell_type": "code",
   "execution_count": 7,
   "metadata": {
    "collapsed": false
   },
   "outputs": [
    {
     "name": "stdout",
     "output_type": "stream",
     "text": [
      "[ 0.77629072]\n"
     ]
    }
   ],
   "source": [
    "def predict(theta, X):\n",
    "    ### YOUR CODE HERE ###\n",
    "\n",
    "\n",
    "    ######################\n",
    "\n",
    "# For a student with an Exam 1 score of 45 and an Exam 2 score of 85,\n",
    "# you should expect to see an admission probability of 0.776.\n",
    "student = np.array([1, 45, 85])\n",
    "print predict(theta, student)"
   ]
  },
  {
   "cell_type": "code",
   "execution_count": 8,
   "metadata": {
    "collapsed": false
   },
   "outputs": [
    {
     "data": {
      "text/plain": [
       "[<matplotlib.lines.Line2D at 0x111bbe450>]"
      ]
     },
     "execution_count": 8,
     "metadata": {},
     "output_type": "execute_result"
    },
    {
     "data": {
      "image/png": "[encoded data removed]",
      "text/plain": [
       "<matplotlib.figure.Figure at 0x111ae5c10>"
      ]
     },
     "metadata": {},
     "output_type": "display_data"
    }
   ],
   "source": [
    "X = np.array(xs)\n",
    "y = np.array(ys)\n",
    "plt.scatter(X[y == 1, 0], X[y == 1, 1], color='b', label='Admitted')\n",
    "plt.scatter(X[y == 0, 0], X[y == 0, 1], color='r', label='Not admitted')\n",
    "plt.title('Figure 2: Training data with decision boundary')\n",
    "plt.xlabel('Exam 1 score')\n",
    "plt.ylabel('Exam 2 score')\n",
    "plt.legend()\n",
    "\n",
    "# theta_0 + theta_1 x + theta_2 y = 0 defines a line of 50% probability\n",
    "xmin, ymin = np.min(X, axis=0)\n",
    "xmax, ymax = np.max(X, axis=0)\n",
    "xs_ = np.linspace(xmin, xmax, 20)\n",
    "ys_ = - (theta[0] + theta[1] * xs_) / theta[2]\n",
    "indices = [i for i, (x, y) in enumerate(zip(xs_, ys_)) if xmin <= x <= xmax and ymin <= y <= ymax]\n",
    "plt.plot(xs_[indices], ys_[indices], 'g')"
   ]
  },
  {
   "cell_type": "code",
   "execution_count": null,
   "metadata": {
    "collapsed": true
   },
   "outputs": [],
   "source": []
  }
 ],
 "metadata": {
  "kernelspec": {
   "display_name": "Python [Root]",
   "language": "python",
   "name": "Python [Root]"
  },
  "language_info": {
   "codemirror_mode": {
    "name": "ipython",
    "version": 2
   },
   "file_extension": ".py",
   "mimetype": "text/x-python",
   "name": "python",
   "nbconvert_exporter": "python",
   "pygments_lexer": "ipython2",
   "version": "2.7.13"
  }
 },
 "nbformat": 4,
 "nbformat_minor": 2
}
