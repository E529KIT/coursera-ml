{
 "cells": [
  {
   "cell_type": "markdown",
   "metadata": {},
   "source": [
    "# Programming Exercise 6: Support Vector Machines\n",
    "# 2 Spam Classification\n",
    "## 2.1 Preprocessing Emails"
   ]
  },
  {
   "cell_type": "code",
   "execution_count": 1,
   "metadata": {
    "collapsed": false
   },
   "outputs": [
    {
     "name": "stdout",
     "output_type": "stream",
     "text": [
      "comput\n",
      "program\n",
      "univers\n"
     ]
    }
   ],
   "source": [
    "from nltk import stem\n",
    "\n",
    "stemmer = stem.PorterStemmer()\n",
    "print stemmer.stem('computer')\n",
    "print stemmer.stem('programming')\n",
    "print stemmer.stem('university')"
   ]
  },
  {
   "cell_type": "code",
   "execution_count": 2,
   "metadata": {
    "collapsed": true
   },
   "outputs": [],
   "source": [
    "import re\n",
    "import string\n",
    "\n",
    "def process_email(email_contents):\n",
    "    text = email_contents.lower()\n",
    "    text = re.sub(r'<[^<>]+>', ' ', text)\n",
    "    text = re.sub(r'\\d+', 'number', text)\n",
    "    text = re.sub(r'(http|https)://[^\\s]*', 'httpaddr', text)\n",
    "    text = re.sub(r'[^\\s]+@[^\\s]+', 'emailaddr', text)\n",
    "    text = re.sub(r'[$]+', 'dollar', text)\n",
    "    words = text.split()\n",
    "    words = [''.join(c for c in word if c not in string.punctuation) for word in words]\n",
    "    words = [re.sub(r'[^a-zA-Z0-9]', '', word) for word in words]\n",
    "    words = filter(None, map(stemmer.stem, words))  # stem words and remove empty words\n",
    "    return words"
   ]
  },
  {
   "cell_type": "code",
   "execution_count": 3,
   "metadata": {
    "collapsed": false
   },
   "outputs": [
    {
     "name": "stdout",
     "output_type": "stream",
     "text": [
      "anyon know how much it cost to host a web portal well it depend on how mani visitor your expect thi can be anywher from less than number buck a month to a coupl of dollarnumb you should checkout httpaddr or perhap amazon ecnumb if your run someth big to unsubscrib yourself from thi mail list send an email to emailaddr\n"
     ]
    }
   ],
   "source": [
    "with open('../matlab/emailSample1.txt') as f:\n",
    "    email1 = f.read()\n",
    "    processed_email = ' '.join(process_email(email1))\n",
    "    print processed_email"
   ]
  },
  {
   "cell_type": "code",
   "execution_count": 4,
   "metadata": {
    "collapsed": false
   },
   "outputs": [
    {
     "data": {
      "text/plain": [
       "True"
      ]
     },
     "execution_count": 4,
     "metadata": {},
     "output_type": "execute_result"
    }
   ],
   "source": [
    "answer = '''anyon know how much it cost to host a web portal well it depend on \\\n",
    "how mani visitor your expect thi can be anywher from less than number buck a month \\\n",
    "to a coupl of dollarnumb you should checkout httpaddr or perhap amazon ecnumb if \\\n",
    "your run someth big to unsubscrib yourself from thi mail list send an email to emailaddr'''\n",
    "answer == processed_email"
   ]
  },
  {
   "cell_type": "markdown",
   "metadata": {},
   "source": [
    "### 2.1.1 Vocabulary List"
   ]
  },
  {
   "cell_type": "code",
   "execution_count": 5,
   "metadata": {
    "collapsed": false
   },
   "outputs": [],
   "source": [
    "import csv\n",
    "\n",
    "with open('../matlab/vocab.txt') as f:\n",
    "    csv_reader = csv.reader(f, delimiter='\\t')\n",
    "    vocab = {row[1]: int(row[0]) for row in csv_reader}"
   ]
  },
  {
   "cell_type": "code",
   "execution_count": 6,
   "metadata": {
    "collapsed": false
   },
   "outputs": [
    {
     "name": "stdout",
     "output_type": "stream",
     "text": [
      "[86, 916, 794, 1077, 883, 370, 1699, 790, 1822, 1831, 883, 431, 1171, 794, 1002, 1895, 592, 1676, 238, 162, 89, 688, 945, 1663, 1120, 1062, 1699, 375, 1162, 479, 1893, 1510, 799, 1182, 1237, 810, 1895, 1440, 1547, 181, 1699, 1758, 1896, 688, 1676, 992, 961, 1477, 71, 530, 1699, 531]\n"
     ]
    }
   ],
   "source": [
    "with open('../matlab/emailSample1.txt') as f:\n",
    "    words = process_email(f.read())\n",
    "    ### YOUR CODE HERE ###\n",
    "\n",
    "\n",
    "    ######################\n",
    "    print word_indices"
   ]
  },
  {
   "cell_type": "markdown",
   "metadata": {},
   "source": [
    "## 2.2 Extracting Features from Emails"
   ]
  },
  {
   "cell_type": "code",
   "execution_count": 7,
   "metadata": {
    "collapsed": false
   },
   "outputs": [
    {
     "name": "stdout",
     "output_type": "stream",
     "text": [
      "44.0\n",
      "86 916 794\n",
      "[ 1.  1.  1.]\n"
     ]
    }
   ],
   "source": [
    "import numpy as np\n",
    "\n",
    "def email_features(email_contents):\n",
    "    ### YOUR CODE HERE ###\n",
    "\n",
    "\n",
    "\n",
    "\n",
    "\n",
    "    ######################\n",
    "\n",
    "X = email_features(email1)\n",
    "print X.sum()\n",
    "print vocab['anyon'], vocab['know'], vocab['how']\n",
    "print X[[vocab['anyon'] - 1, vocab['know'] - 1, vocab['how'] - 1]]"
   ]
  },
  {
   "cell_type": "markdown",
   "metadata": {},
   "source": [
    "## 2.3 Training SVM for Spam Classification"
   ]
  },
  {
   "cell_type": "code",
   "execution_count": 8,
   "metadata": {
    "collapsed": false
   },
   "outputs": [
    {
     "name": "stdout",
     "output_type": "stream",
     "text": [
      "['y', 'X', '__version__', '__header__', '__globals__']\n",
      "['ytest', 'Xtest', '__version__', '__header__', '__globals__']\n"
     ]
    }
   ],
   "source": [
    "import scipy.io\n",
    "\n",
    "train = scipy.io.loadmat('../matlab/spamTrain.mat')\n",
    "test = scipy.io.loadmat('../matlab/spamTest.mat')\n",
    "print train.keys()\n",
    "print test.keys()"
   ]
  },
  {
   "cell_type": "code",
   "execution_count": 9,
   "metadata": {
    "collapsed": false
   },
   "outputs": [
    {
     "name": "stdout",
     "output_type": "stream",
     "text": [
      "(4000, 1899) (1000, 1899)\n"
     ]
    }
   ],
   "source": [
    "X = train['X']\n",
    "y = train['y'][:, 0]\n",
    "Xtest = test['Xtest']\n",
    "ytest = test['ytest'][:, 0]\n",
    "print X.shape, Xtest.shape"
   ]
  },
  {
   "cell_type": "code",
   "execution_count": 10,
   "metadata": {
    "collapsed": false
   },
   "outputs": [
    {
     "name": "stdout",
     "output_type": "stream",
     "text": [
      "train accuracy = 99.83%\n",
      "test accuracy = 98.90%\n"
     ]
    }
   ],
   "source": [
    "from sklearn.svm import SVC\n",
    "\n",
    "clf = SVC(kernel='linear', C=0.1)\n",
    "clf.fit(X, y)\n",
    "y_pred = clf.predict(X)\n",
    "ytest_pred = clf.predict(Xtest)\n",
    "print 'train accuracy = %.2f%%' % ((y_pred == y).mean() * 100)\n",
    "print 'test accuracy = %.2f%%' % ((ytest_pred == ytest).mean() * 100)"
   ]
  },
  {
   "cell_type": "markdown",
   "metadata": {},
   "source": [
    "## 2.4 Top Predictors for Spam"
   ]
  },
  {
   "cell_type": "code",
   "execution_count": 11,
   "metadata": {
    "collapsed": false
   },
   "outputs": [
    {
     "name": "stdout",
     "output_type": "stream",
     "text": [
      "[[ 0.00793208  0.01563324  0.05546492 ..., -0.08670606 -0.00661274\n",
      "   0.06506632]]\n"
     ]
    }
   ],
   "source": [
    "print clf.coef_"
   ]
  },
  {
   "cell_type": "code",
   "execution_count": 12,
   "metadata": {
    "collapsed": false
   },
   "outputs": [
    {
     "name": "stdout",
     "output_type": "stream",
     "text": [
      "['our', 'click', 'remov', 'guarante', 'visit', 'basenumb', 'dollar', 'will', 'price', 'pleas', 'most', 'nbsp', 'lo', 'ga', 'hour']\n"
     ]
    }
   ],
   "source": [
    "coef = clf.coef_[0]\n",
    "top_indices = sorted(range(len(coef)), key=lambda i: coef[i], reverse=True)\n",
    "inverse_table = {i: word for word, i in vocab.items()}\n",
    "print [inverse_table[i + 1] for i in top_indices[:15]]"
   ]
  },
  {
   "cell_type": "markdown",
   "metadata": {},
   "source": [
    "## 2.5 Optional (ungraded) exercise: Try your own emails"
   ]
  },
  {
   "cell_type": "code",
   "execution_count": 13,
   "metadata": {
    "collapsed": false
   },
   "outputs": [
    {
     "name": "stdout",
     "output_type": "stream",
     "text": [
      "[0 0 1 1]\n"
     ]
    }
   ],
   "source": [
    "X = np.zeros((4, len(vocab)))\n",
    "for i, filename in enumerate(('emailSample1.txt', 'emailSample2.txt',\n",
    "                              'spamSample1.txt', 'spamSample2.txt')):\n",
    "    with open('../matlab/%s' % filename) as f:\n",
    "        X[i, :] = email_features(f.read())\n",
    "\n",
    "print clf.predict(X)"
   ]
  },
  {
   "cell_type": "code",
   "execution_count": null,
   "metadata": {
    "collapsed": true
   },
   "outputs": [],
   "source": []
  }
 ],
 "metadata": {
  "kernelspec": {
   "display_name": "Python [Root]",
   "language": "python",
   "name": "Python [Root]"
  },
  "language_info": {
   "codemirror_mode": {
    "name": "ipython",
    "version": 2
   },
   "file_extension": ".py",
   "mimetype": "text/x-python",
   "name": "python",
   "nbconvert_exporter": "python",
   "pygments_lexer": "ipython2",
   "version": "2.7.13"
  }
 },
 "nbformat": 4,
 "nbformat_minor": 2
}
