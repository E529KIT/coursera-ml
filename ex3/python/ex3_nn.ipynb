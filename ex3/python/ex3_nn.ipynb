{
 "cells": [
  {
   "cell_type": "markdown",
   "metadata": {},
   "source": [
    "# Programming Exercise 3: Multi-class Classification and Neural Networks\n",
    "# 2 Neural Networks\n",
    "## 2.1 Model representation"
   ]
  },
  {
   "cell_type": "code",
   "execution_count": 1,
   "metadata": {
    "collapsed": false
   },
   "outputs": [
    {
     "name": "stdout",
     "output_type": "stream",
     "text": [
      "['Theta2', '__version__', '__header__', 'Theta1', '__globals__']\n"
     ]
    }
   ],
   "source": [
    "import scipy.io\n",
    "\n",
    "data = scipy.io.loadmat('../matlab/ex3weights.mat')\n",
    "print data.keys()"
   ]
  },
  {
   "cell_type": "code",
   "execution_count": 2,
   "metadata": {
    "collapsed": false
   },
   "outputs": [
    {
     "name": "stdout",
     "output_type": "stream",
     "text": [
      "(25, 401)\n",
      "(10, 26)\n"
     ]
    }
   ],
   "source": [
    "Theta1 = data['Theta1']\n",
    "Theta2 = data['Theta2']\n",
    "print Theta1.shape\n",
    "print Theta2.shape"
   ]
  },
  {
   "cell_type": "markdown",
   "metadata": {},
   "source": [
    "## 2.2 Feedforward Propagation and Prediction\n",
    "![title](fig2.png)"
   ]
  },
  {
   "cell_type": "code",
   "execution_count": 3,
   "metadata": {
    "collapsed": false
   },
   "outputs": [
    {
     "name": "stdout",
     "output_type": "stream",
     "text": [
      "(5000, 400)\n",
      "(5000, 1)\n"
     ]
    }
   ],
   "source": [
    "data = scipy.io.loadmat('../matlab/ex3data1.mat')\n",
    "X = data['X']\n",
    "y = data['y']\n",
    "print X.shape\n",
    "print y.shape"
   ]
  },
  {
   "cell_type": "code",
   "execution_count": 4,
   "metadata": {
    "collapsed": true
   },
   "outputs": [],
   "source": [
    "import numpy as np\n",
    "\n",
    "def sigmoid(z):\n",
    "    ### YOUR CODE HERE ###\n",
    "\n",
    "    ######################\n",
    "\n",
    "def add_ones(X):\n",
    "    m, _ = X.shape\n",
    "    return np.column_stack((np.ones((m, 1)), X))\n",
    "\n",
    "def predict(Theta1, Theta2, X):\n",
    "    '''Returns an array of predicted digits (1..10)'''\n",
    "    ### YOUR CODE HERE ###\n",
    "\n",
    "\n",
    "\n",
    "\n",
    "    ######################"
   ]
  },
  {
   "cell_type": "code",
   "execution_count": 5,
   "metadata": {
    "collapsed": false
   },
   "outputs": [
    {
     "name": "stdout",
     "output_type": "stream",
     "text": [
      "training set accuracy = 97.5%\n"
     ]
    }
   ],
   "source": [
    "predictions = predict(Theta1, Theta2, X)\n",
    "print 'training set accuracy = %.1f%%' % (\n",
    "    100.0 * sum(p == y_ for p, y_ in zip(predictions, y.flatten())) / len(predictions))"
   ]
  },
  {
   "cell_type": "code",
   "execution_count": null,
   "metadata": {
    "collapsed": true
   },
   "outputs": [],
   "source": []
  }
 ],
 "metadata": {
  "kernelspec": {
   "display_name": "Python [Root]",
   "language": "python",
   "name": "Python [Root]"
  },
  "language_info": {
   "codemirror_mode": {
    "name": "ipython",
    "version": 2
   },
   "file_extension": ".py",
   "mimetype": "text/x-python",
   "name": "python",
   "nbconvert_exporter": "python",
   "pygments_lexer": "ipython2",
   "version": "2.7.13"
  }
 },
 "nbformat": 4,
 "nbformat_minor": 2
}
