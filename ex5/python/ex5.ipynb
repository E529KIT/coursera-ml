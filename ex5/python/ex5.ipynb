{
 "cells": [
  {
   "cell_type": "markdown",
   "metadata": {},
   "source": [
    "# Programming Exercise 5: Regularized Linear Regression and Bias v.s. Variance\n",
    "# 1 Regularized Linear Regression\n",
    "## 1.1 Visualizing the dataset"
   ]
  },
  {
   "cell_type": "code",
   "execution_count": 1,
   "metadata": {
    "collapsed": false
   },
   "outputs": [
    {
     "name": "stdout",
     "output_type": "stream",
     "text": [
      "['ytest', 'yval', '__header__', '__globals__', 'Xtest', 'Xval', 'y', 'X', '__version__']\n"
     ]
    }
   ],
   "source": [
    "import scipy.io\n",
    "\n",
    "data = scipy.io.loadmat('../matlab/ex5data1.mat')\n",
    "print data.keys()"
   ]
  },
  {
   "cell_type": "code",
   "execution_count": 2,
   "metadata": {
    "collapsed": false
   },
   "outputs": [
    {
     "name": "stdout",
     "output_type": "stream",
     "text": [
      "(12, 1) (21, 1) (21, 1) (12, 1) (21, 1) (21, 1)\n"
     ]
    }
   ],
   "source": [
    "(X, Xtest, Xval, y, ytest, yval) = [data[key] for key\n",
    "                                              in ('X', 'Xtest', 'Xval', 'y', 'ytest', 'yval')]\n",
    "print X.shape, Xtest.shape, Xval.shape, y.shape, ytest.shape, yval.shape"
   ]
  },
  {
   "cell_type": "code",
   "execution_count": 3,
   "metadata": {
    "collapsed": true
   },
   "outputs": [],
   "source": [
    "(y, ytest, yval) = (y[:,0], ytest[:,0], yval[:,0])"
   ]
  },
  {
   "cell_type": "code",
   "execution_count": 4,
   "metadata": {
    "collapsed": false
   },
   "outputs": [
    {
     "data": {
      "text/plain": [
       "<matplotlib.text.Text at 0x10dd29150>"
      ]
     },
     "execution_count": 4,
     "metadata": {},
     "output_type": "execute_result"
    },
    {
     "data": {
      "image/png": "[encoded data removed]",
      "text/plain": [
       "<matplotlib.figure.Figure at 0x10d368f10>"
      ]
     },
     "metadata": {},
     "output_type": "display_data"
    }
   ],
   "source": [
    "import matplotlib.pyplot as plt\n",
    "% matplotlib inline\n",
    "\n",
    "plt.plot(X, y, 'rx')\n",
    "plt.title('Figure 1: Data')\n",
    "plt.xlabel('Change in water level (x)')\n",
    "plt.ylabel('Water flowing out of the dam (y)')"
   ]
  },
  {
   "cell_type": "markdown",
   "metadata": {},
   "source": [
    "## 1.2 Regularized linear regression cost function\n",
    "$J(\\theta) = \\frac{1}{2m}(\\sum_{i=1}^{m} (h_{\\theta}(x^{(i)}) - y^{(i)})^2) + \\frac{\\lambda}{2m} \\sum_{j=1}^{n} \\theta_j^2$"
   ]
  },
  {
   "cell_type": "code",
   "execution_count": 5,
   "metadata": {
    "collapsed": false
   },
   "outputs": [
    {
     "name": "stdout",
     "output_type": "stream",
     "text": [
      "303.99319222\n"
     ]
    }
   ],
   "source": [
    "import numpy as np\n",
    "\n",
    "def add_ones(X):\n",
    "    m, _ = X.shape\n",
    "    return np.column_stack((np.ones((m, 1)), X))\n",
    "    \n",
    "def cost(X, y, theta, lambda_):\n",
    "    ### YOUR CODE HERE ###\n",
    "\n",
    "\n",
    "\n",
    "    ######################\n",
    "    \n",
    "print cost(X, y, np.array([1, 1]), 1)  # should be about 303.993"
   ]
  },
  {
   "cell_type": "markdown",
   "metadata": {},
   "source": [
    "## 1.3 Regularized linear regression gradient\n",
    "$\\frac{\\partial J(\\theta)}{\\partial \\theta_0} = \\frac{1}{m} \\sum_{i=1}^{m} (h_\\theta (x^{(i)}) - y^{(i)}) x_0^{(i)} \\quad (j = 0)$\n",
    "\n",
    "$\\frac{\\partial J(\\theta)}{\\partial \\theta_j} = \\frac{1}{m} \\sum_{i=1}^{m} (h_\\theta (x^{(i)}) - y^{(i)}) x_j^{(i)} + \\frac{\\lambda}{m} \\theta_j \\quad (j \\ge 1)$"
   ]
  },
  {
   "cell_type": "code",
   "execution_count": 6,
   "metadata": {
    "collapsed": false
   },
   "outputs": [
    {
     "name": "stdout",
     "output_type": "stream",
     "text": [
      "[ -15.30301567  598.25074417]\n"
     ]
    }
   ],
   "source": [
    "def gradient(X, y, theta, lambda_):\n",
    "    ### YOUR CODE HERE ###\n",
    "\n",
    "\n",
    "\n",
    "    ######################\n",
    "\n",
    "print gradient(X, y, np.array([1, 1]), 1)  # should be about [-15.30, 598.25]"
   ]
  },
  {
   "cell_type": "markdown",
   "metadata": {},
   "source": [
    "## 1.4 Fitting linear regression"
   ]
  },
  {
   "cell_type": "code",
   "execution_count": 7,
   "metadata": {
    "collapsed": false
   },
   "outputs": [
    {
     "name": "stdout",
     "output_type": "stream",
     "text": [
      "Optimization terminated successfully.\n",
      "         Current function value: 22.373906\n",
      "         Iterations: 2\n",
      "         Function evaluations: 5\n",
      "         Gradient evaluations: 5\n",
      "[ 13.08790351   0.36777923]\n"
     ]
    }
   ],
   "source": [
    "from scipy.optimize import fmin_cg\n",
    "\n",
    "cost_ = lambda t: cost(X, y, t, 0)\n",
    "gradient_ = lambda t: gradient(X, y, t, 0)\n",
    "theta = fmin_cg(cost_, np.zeros(2), fprime=gradient_, maxiter=200)\n",
    "print theta"
   ]
  },
  {
   "cell_type": "code",
   "execution_count": 8,
   "metadata": {
    "collapsed": false
   },
   "outputs": [
    {
     "data": {
      "text/plain": [
       "<matplotlib.text.Text at 0x10dea3690>"
      ]
     },
     "execution_count": 8,
     "metadata": {},
     "output_type": "execute_result"
    },
    {
     "data": {
      "image/png": "[encoded data removed]",
      "text/plain": [
       "<matplotlib.figure.Figure at 0x10de43710>"
      ]
     },
     "metadata": {},
     "output_type": "display_data"
    }
   ],
   "source": [
    "plt.plot(X, y, 'rx')\n",
    "plt.plot(X, np.dot(add_ones(X), theta), 'b-')\n",
    "plt.title('Figure 2: Linear Fit')\n",
    "plt.xlabel('Change in water level (x)')\n",
    "plt.ylabel('Water flowing out of the dam (y)')"
   ]
  },
  {
   "cell_type": "markdown",
   "metadata": {},
   "source": [
    "# 2 Bias-variance\n",
    "## 2.1 Learning curves"
   ]
  },
  {
   "cell_type": "code",
   "execution_count": 9,
   "metadata": {
    "collapsed": false
   },
   "outputs": [
    {
     "name": "stdout",
     "output_type": "stream",
     "text": [
      "Optimization terminated successfully.\n",
      "         Current function value: 0.000000\n",
      "         Iterations: 2\n",
      "         Function evaluations: 6\n",
      "         Gradient evaluations: 6\n",
      "Optimization terminated successfully.\n",
      "         Current function value: 3.286595\n",
      "         Iterations: 9\n",
      "         Function evaluations: 15\n",
      "         Gradient evaluations: 15\n",
      "Optimization terminated successfully.\n",
      "         Current function value: 2.842678\n",
      "         Iterations: 8\n",
      "         Function evaluations: 14\n",
      "         Gradient evaluations: 14\n",
      "Optimization terminated successfully.\n",
      "         Current function value: 13.154049\n",
      "         Iterations: 22\n",
      "         Function evaluations: 34\n",
      "         Gradient evaluations: 34\n",
      "Optimization terminated successfully.\n",
      "         Current function value: 19.443963\n",
      "         Iterations: 22\n",
      "         Function evaluations: 34\n",
      "         Gradient evaluations: 34\n",
      "Optimization terminated successfully.\n",
      "         Current function value: 20.098522\n",
      "         Iterations: 18\n",
      "         Function evaluations: 28\n",
      "         Gradient evaluations: 28\n",
      "Optimization terminated successfully.\n",
      "         Current function value: 18.172859\n",
      "         Iterations: 2\n",
      "         Function evaluations: 5\n",
      "         Gradient evaluations: 5\n",
      "Optimization terminated successfully.\n",
      "         Current function value: 22.609405\n",
      "         Iterations: 2\n",
      "         Function evaluations: 5\n",
      "         Gradient evaluations: 5\n",
      "Optimization terminated successfully.\n",
      "         Current function value: 23.261462\n",
      "         Iterations: 2\n",
      "         Function evaluations: 5\n",
      "         Gradient evaluations: 5\n",
      "Optimization terminated successfully.\n",
      "         Current function value: 24.317250\n",
      "         Iterations: 2\n",
      "         Function evaluations: 5\n",
      "         Gradient evaluations: 5\n",
      "Optimization terminated successfully.\n",
      "         Current function value: 22.373906\n",
      "         Iterations: 2\n",
      "         Function evaluations: 5\n",
      "         Gradient evaluations: 5\n"
     ]
    },
    {
     "data": {
      "text/plain": [
       "<matplotlib.legend.Legend at 0x10d1f5490>"
      ]
     },
     "execution_count": 9,
     "metadata": {},
     "output_type": "execute_result"
    },
    {
     "data": {
      "image/png": "[encoded data removed]",
      "text/plain": [
       "<matplotlib.figure.Figure at 0x10dd0ba50>"
      ]
     },
     "metadata": {},
     "output_type": "display_data"
    }
   ],
   "source": [
    "error_train = []\n",
    "error_val = []\n",
    "ns = range(2, 13)\n",
    "for n in ns:\n",
    "    ### YOUR CODE HERE ###\n",
    "\n",
    "\n",
    "\n",
    "\n",
    "    ######################\n",
    "\n",
    "plt.plot(ns, error_train, 'b-', label='Train')\n",
    "plt.plot(ns, error_val, 'g-', label='Cross Validation')\n",
    "plt.title('Figure 3: Linear regression learning curve')\n",
    "plt.xlabel('Number of training examples')\n",
    "plt.ylabel('Error')\n",
    "plt.legend(loc='upper right')"
   ]
  },
  {
   "cell_type": "markdown",
   "metadata": {},
   "source": [
    "# 3 Polynomial regression\n",
    "$h_\\theta (x) = \\theta_0 + \\theta_1 \\cdot waterLevel + \\theta_2 \\cdot (waterLevel)^2 + \\cdots + \\theta_p \\cdot (waterLevel)^p = \\theta_0 + \\theta_1 x_1 + \\theta_2 x_2 + \\cdots + \\theta_p x_p$"
   ]
  },
  {
   "cell_type": "code",
   "execution_count": 10,
   "metadata": {
    "collapsed": false
   },
   "outputs": [
    {
     "name": "stdout",
     "output_type": "stream",
     "text": [
      "[[ -1.59367581e+01   2.53980260e+02  -4.04762197e+03]\n",
      " [ -2.91529792e+01   8.49896197e+02  -2.47770062e+04]\n",
      " [  3.61895486e+01   1.30968343e+03   4.73968522e+04]\n",
      " [  3.74921873e+01   1.40566411e+03   5.27014222e+04]\n",
      " [ -4.80588295e+01   2.30965109e+03  -1.10999128e+05]]\n"
     ]
    }
   ],
   "source": [
    "def poly_features(X, p):\n",
    "    ### YOUR CODE HERE ###\n",
    "\n",
    "\n",
    "    ######################\n",
    "\n",
    "print poly_features(X[:5, :], 3)"
   ]
  },
  {
   "cell_type": "markdown",
   "metadata": {},
   "source": [
    "## 3.1 Learning Polynomial Regression"
   ]
  },
  {
   "cell_type": "code",
   "execution_count": 11,
   "metadata": {
    "collapsed": true
   },
   "outputs": [],
   "source": [
    "def feature_normalize(X):  # cf. ex1_multi\n",
    "    ### YOUR CODE HERE ###\n",
    "\n",
    "\n",
    "\n",
    "    ######################"
   ]
  },
  {
   "cell_type": "code",
   "execution_count": 12,
   "metadata": {
    "collapsed": false
   },
   "outputs": [
    {
     "name": "stdout",
     "output_type": "stream",
     "text": [
      "[[ -3.78243704e-01  -7.88662325e-01   1.90328720e-01  -7.37591303e-01\n",
      "    3.20251970e-01  -6.17151602e-01   3.59835014e-01  -5.31091256e-01]\n",
      " [ -8.38920100e-01   1.31420204e-03  -2.58961742e-01  -3.41564822e-01\n",
      "    9.75492734e-02  -4.55196644e-01   2.66773432e-01  -4.68873807e-01]\n",
      " [  1.43871736e+00   6.10831582e-01   1.30534069e+00   2.56220001e-01\n",
      "    1.02186338e+00  -1.26962121e-02   7.90210009e-01  -1.77926980e-01]]\n"
     ]
    }
   ],
   "source": [
    "p = 8\n",
    "X_norm, mu, sigma = feature_normalize(poly_features(X, p))\n",
    "print X_norm[:3, :]"
   ]
  },
  {
   "cell_type": "code",
   "execution_count": 13,
   "metadata": {
    "collapsed": false
   },
   "outputs": [
    {
     "name": "stdout",
     "output_type": "stream",
     "text": [
      "Warning: Maximum number of iterations has been exceeded.\n",
      "         Current function value: 0.055373\n",
      "         Iterations: 200\n",
      "         Function evaluations: 371\n",
      "         Gradient evaluations: 371\n",
      "[ 11.21015339   9.94855392  18.28982053  17.73832991 -31.50040724\n",
      " -36.97675671  29.12704148  25.6145254   -5.58012449]\n"
     ]
    }
   ],
   "source": [
    "cost_ = lambda t: cost(X_norm, y, t, 0)\n",
    "gradient_ = lambda t: gradient(X_norm, y, t, 0)\n",
    "theta = fmin_cg(cost_, np.zeros(p + 1), fprime=gradient_, maxiter=200)\n",
    "print theta"
   ]
  },
  {
   "cell_type": "code",
   "execution_count": 14,
   "metadata": {
    "collapsed": false
   },
   "outputs": [],
   "source": [
    "xs = np.array([np.linspace(-60, 60, 100)]).T\n",
    "xs_poly = poly_features(xs, p)\n",
    "xs_norm = (xs_poly - mu) / sigma"
   ]
  },
  {
   "cell_type": "code",
   "execution_count": 15,
   "metadata": {
    "collapsed": false
   },
   "outputs": [
    {
     "data": {
      "text/plain": [
       "<matplotlib.text.Text at 0x10de88b10>"
      ]
     },
     "execution_count": 15,
     "metadata": {},
     "output_type": "execute_result"
    },
    {
     "data": {
      "image/png": "[encoded data removed]",
      "text/plain": [
       "<matplotlib.figure.Figure at 0x10dfeff10>"
      ]
     },
     "metadata": {},
     "output_type": "display_data"
    }
   ],
   "source": [
    "plt.plot(X, y, 'rx')\n",
    "plt.plot(xs, np.dot(add_ones(xs_norm), theta), 'b--')\n",
    "plt.title(r'Figure 4: Polynomial fit, $\\lambda=0$')\n",
    "plt.xlabel('Change in water level (x)')\n",
    "plt.ylabel('Water flowing out of the dam (y)')"
   ]
  },
  {
   "cell_type": "code",
   "execution_count": 16,
   "metadata": {
    "collapsed": false
   },
   "outputs": [
    {
     "name": "stdout",
     "output_type": "stream",
     "text": [
      "Optimization terminated successfully.\n",
      "         Current function value: 0.000000\n",
      "         Iterations: 6\n",
      "         Function evaluations: 9\n",
      "         Gradient evaluations: 9\n",
      "Optimization terminated successfully.\n",
      "         Current function value: 0.000000\n",
      "         Iterations: 15\n",
      "         Function evaluations: 27\n",
      "         Gradient evaluations: 27\n",
      "Optimization terminated successfully.\n",
      "         Current function value: 0.000000\n",
      "         Iterations: 4\n",
      "         Function evaluations: 13\n",
      "         Gradient evaluations: 13\n",
      "Optimization terminated successfully.\n",
      "         Current function value: 0.000000\n",
      "         Iterations: 17\n",
      "         Function evaluations: 35\n",
      "         Gradient evaluations: 35\n",
      "Optimization terminated successfully.\n",
      "         Current function value: 0.000000\n",
      "         Iterations: 36\n",
      "         Function evaluations: 70\n",
      "         Gradient evaluations: 70\n",
      "Optimization terminated successfully.\n",
      "         Current function value: 0.000000\n",
      "         Iterations: 52\n",
      "         Function evaluations: 108\n",
      "         Gradient evaluations: 108\n",
      "Warning: Desired error not necessarily achieved due to precision loss.\n",
      "         Current function value: 0.037136\n",
      "         Iterations: 20\n",
      "         Function evaluations: 64\n",
      "         Gradient evaluations: 52\n",
      "Warning: Maximum number of iterations has been exceeded.\n",
      "         Current function value: 0.087953\n",
      "         Iterations: 200\n",
      "         Function evaluations: 354\n",
      "         Gradient evaluations: 354\n",
      "Warning: Maximum number of iterations has been exceeded.\n",
      "         Current function value: 0.049091\n",
      "         Iterations: 200\n",
      "         Function evaluations: 383\n",
      "         Gradient evaluations: 383\n",
      "Warning: Maximum number of iterations has been exceeded.\n",
      "         Current function value: 0.082074\n",
      "         Iterations: 200\n",
      "         Function evaluations: 357\n",
      "         Gradient evaluations: 357\n",
      "Warning: Maximum number of iterations has been exceeded.\n",
      "         Current function value: 0.055373\n",
      "         Iterations: 200\n",
      "         Function evaluations: 371\n",
      "         Gradient evaluations: 371\n"
     ]
    },
    {
     "data": {
      "text/plain": [
       "<matplotlib.legend.Legend at 0x10e293fd0>"
      ]
     },
     "execution_count": 16,
     "metadata": {},
     "output_type": "execute_result"
    },
    {
     "data": {
      "image/png": "[encoded data removed]",
      "text/plain": [
       "<matplotlib.figure.Figure at 0x10e0c09d0>"
      ]
     },
     "metadata": {},
     "output_type": "display_data"
    }
   ],
   "source": [
    "error_train = []\n",
    "error_val = []\n",
    "Xval_norm = (poly_features(Xval, p) - mu) / sigma\n",
    "ns = range(2, 13)\n",
    "for n in ns:\n",
    "    cost_ = lambda t: cost(X_norm[:n,:], y[:n], t, 0)\n",
    "    gradient_ = lambda t: gradient(X_norm[:n,:], y[:n], t, 0)\n",
    "    theta = fmin_cg(cost_, np.zeros(p + 1), fprime=gradient_, maxiter=200)\n",
    "    error_train.append(cost(X_norm[:n,:], y[:n], theta, 0))\n",
    "    error_val.append(cost(Xval_norm, yval, theta, 0))\n",
    "\n",
    "plt.plot(ns, error_train, 'b-', label='Train')\n",
    "plt.plot(ns, error_val, 'g-', label='Cross Validation')\n",
    "plt.title(r'Figure 5: Polynomial learning curve, $\\lambda = 0$')\n",
    "plt.xlabel('Number of training examples')\n",
    "plt.ylabel('Error')\n",
    "plt.legend(loc='upper right')"
   ]
  },
  {
   "cell_type": "markdown",
   "metadata": {},
   "source": [
    "## 3.2 Optional (ungraded) exercise: Adjusting the regularization parameter"
   ]
  },
  {
   "cell_type": "code",
   "execution_count": 17,
   "metadata": {
    "collapsed": false
   },
   "outputs": [
    {
     "name": "stdout",
     "output_type": "stream",
     "text": [
      "Optimization terminated successfully.\n",
      "         Current function value: 6.830463\n",
      "         Iterations: 34\n",
      "         Function evaluations: 62\n",
      "         Gradient evaluations: 62\n"
     ]
    },
    {
     "data": {
      "text/plain": [
       "<matplotlib.text.Text at 0x10e543850>"
      ]
     },
     "execution_count": 17,
     "metadata": {},
     "output_type": "execute_result"
    },
    {
     "data": {
      "image/png": "[encoded data removed]",
      "text/plain": [
       "<matplotlib.figure.Figure at 0x10e318ed0>"
      ]
     },
     "metadata": {},
     "output_type": "display_data"
    }
   ],
   "source": [
    "cost_ = lambda t: cost(X_norm, y, t, 1.0)\n",
    "gradient_ = lambda t: gradient(X_norm, y, t, 1.0)\n",
    "theta = fmin_cg(cost_, np.zeros(p + 1), fprime=gradient_, maxiter=200)\n",
    "\n",
    "plt.plot(X, y, 'rx')\n",
    "plt.plot(xs, np.dot(add_ones(xs_norm), theta), 'b--')\n",
    "plt.title(r'Figure 6: Polynomial fit, $\\lambda=1$')\n",
    "plt.xlabel('Change in water level (x)')\n",
    "plt.ylabel('Water flowing out of the dam (y)')"
   ]
  },
  {
   "cell_type": "code",
   "execution_count": 18,
   "metadata": {
    "collapsed": false
   },
   "outputs": [
    {
     "name": "stdout",
     "output_type": "stream",
     "text": [
      "Optimization terminated successfully.\n",
      "         Current function value: 0.070327\n",
      "         Iterations: 20\n",
      "         Function evaluations: 29\n",
      "         Gradient evaluations: 29\n",
      "Optimization terminated successfully.\n",
      "         Current function value: 17.182727\n",
      "         Iterations: 22\n",
      "         Function evaluations: 37\n",
      "         Gradient evaluations: 37\n",
      "Optimization terminated successfully.\n",
      "         Current function value: 13.476899\n",
      "         Iterations: 17\n",
      "         Function evaluations: 34\n",
      "         Gradient evaluations: 34\n",
      "Optimization terminated successfully.\n",
      "         Current function value: 10.781524\n",
      "         Iterations: 8\n",
      "         Function evaluations: 18\n",
      "         Gradient evaluations: 18\n",
      "Optimization terminated successfully.\n",
      "         Current function value: 9.347014\n",
      "         Iterations: 31\n",
      "         Function evaluations: 52\n",
      "         Gradient evaluations: 52\n",
      "Optimization terminated successfully.\n",
      "         Current function value: 8.754387\n",
      "         Iterations: 32\n",
      "         Function evaluations: 57\n",
      "         Gradient evaluations: 57\n",
      "Optimization terminated successfully.\n",
      "         Current function value: 7.682189\n",
      "         Iterations: 34\n",
      "         Function evaluations: 57\n",
      "         Gradient evaluations: 57\n",
      "Optimization terminated successfully.\n",
      "         Current function value: 7.277291\n",
      "         Iterations: 36\n",
      "         Function evaluations: 62\n",
      "         Gradient evaluations: 62\n",
      "Optimization terminated successfully.\n",
      "         Current function value: 6.592031\n",
      "         Iterations: 31\n",
      "         Function evaluations: 58\n",
      "         Gradient evaluations: 58\n",
      "Warning: Desired error not necessarily achieved due to precision loss.\n",
      "         Current function value: 6.360235\n",
      "         Iterations: 5\n",
      "         Function evaluations: 21\n",
      "         Gradient evaluations: 9\n",
      "Optimization terminated successfully.\n",
      "         Current function value: 6.830463\n",
      "         Iterations: 34\n",
      "         Function evaluations: 62\n",
      "         Gradient evaluations: 62\n"
     ]
    },
    {
     "data": {
      "text/plain": [
       "<matplotlib.legend.Legend at 0x10e4ac7d0>"
      ]
     },
     "execution_count": 18,
     "metadata": {},
     "output_type": "execute_result"
    },
    {
     "data": {
      "image/png": "[encoded data removed]",
      "text/plain": [
       "<matplotlib.figure.Figure at 0x10e0c0a90>"
      ]
     },
     "metadata": {},
     "output_type": "display_data"
    }
   ],
   "source": [
    "error_train = []\n",
    "error_val = []\n",
    "ns = range(2, 13)\n",
    "for n in ns:\n",
    "    cost_ = lambda t: cost(X_norm[:n,:], y[:n], t, 1.0)\n",
    "    gradient_ = lambda t: gradient(X_norm[:n,:], y[:n], t, 1.0)\n",
    "    theta = fmin_cg(cost_, np.zeros(p + 1), fprime=gradient_, maxiter=200)\n",
    "    error_train.append(cost(X_norm[:n,:], y[:n], theta, 0))\n",
    "    error_val.append(cost(Xval_norm, yval, theta, 0))\n",
    "\n",
    "plt.plot(ns, error_train, 'b-', label='Train')\n",
    "plt.plot(ns, error_val, 'g-', label='Cross Validation')\n",
    "plt.title(r'Figure 7: Polynomial learning curve, $\\lambda = 1$')\n",
    "plt.xlabel('Number of training examples')\n",
    "plt.ylabel('Error')\n",
    "plt.legend(loc='upper right')"
   ]
  },
  {
   "cell_type": "code",
   "execution_count": 19,
   "metadata": {
    "collapsed": false
   },
   "outputs": [
    {
     "name": "stdout",
     "output_type": "stream",
     "text": [
      "Optimization terminated successfully.\n",
      "         Current function value: 65.950955\n",
      "         Iterations: 9\n",
      "         Function evaluations: 17\n",
      "         Gradient evaluations: 17\n"
     ]
    },
    {
     "data": {
      "text/plain": [
       "<matplotlib.text.Text at 0x10e825810>"
      ]
     },
     "execution_count": 19,
     "metadata": {},
     "output_type": "execute_result"
    },
    {
     "data": {
      "image/png": "[encoded data removed]",
      "text/plain": [
       "<matplotlib.figure.Figure at 0x10e0d6690>"
      ]
     },
     "metadata": {},
     "output_type": "display_data"
    }
   ],
   "source": [
    "cost_ = lambda t: cost(X_norm, y, t, 100.0)\n",
    "gradient_ = lambda t: gradient(X_norm, y, t, 100.0)\n",
    "theta = fmin_cg(cost_, np.zeros(p + 1), fprime=gradient_, maxiter=200)\n",
    "\n",
    "plt.plot(X, y, 'rx')\n",
    "plt.plot(xs, np.dot(add_ones(xs_norm), theta), 'b--')\n",
    "plt.title(r'Figure 8: Polynomial fit, $\\lambda=100$')\n",
    "plt.xlabel('Change in water level (x)')\n",
    "plt.ylabel('Water flowing out of the dam (y)')"
   ]
  },
  {
   "cell_type": "markdown",
   "metadata": {},
   "source": [
    "## 3.3 Selecting $\\lambda$ using a cross validation set"
   ]
  },
  {
   "cell_type": "code",
   "execution_count": 20,
   "metadata": {
    "collapsed": false
   },
   "outputs": [
    {
     "name": "stdout",
     "output_type": "stream",
     "text": [
      "Warning: Maximum number of iterations has been exceeded.\n",
      "         Current function value: 0.055373\n",
      "         Iterations: 200\n",
      "         Function evaluations: 371\n",
      "         Gradient evaluations: 371\n",
      "Optimization terminated successfully.\n",
      "         Current function value: 0.169418\n",
      "         Iterations: 111\n",
      "         Function evaluations: 234\n",
      "         Gradient evaluations: 234\n",
      "Optimization terminated successfully.\n",
      "         Current function value: 0.243172\n",
      "         Iterations: 144\n",
      "         Function evaluations: 285\n",
      "         Gradient evaluations: 285\n",
      "Optimization terminated successfully.\n",
      "         Current function value: 0.371282\n",
      "         Iterations: 196\n",
      "         Function evaluations: 359\n",
      "         Gradient evaluations: 359\n",
      "Optimization terminated successfully.\n",
      "         Current function value: 0.636703\n",
      "         Iterations: 116\n",
      "         Function evaluations: 210\n",
      "         Gradient evaluations: 210\n",
      "Optimization terminated successfully.\n",
      "         Current function value: 1.360572\n",
      "         Iterations: 67\n",
      "         Function evaluations: 128\n",
      "         Gradient evaluations: 128\n",
      "Optimization terminated successfully.\n",
      "         Current function value: 2.917649\n",
      "         Iterations: 57\n",
      "         Function evaluations: 96\n",
      "         Gradient evaluations: 96\n",
      "Optimization terminated successfully.\n",
      "         Current function value: 6.830463\n",
      "         Iterations: 34\n",
      "         Function evaluations: 62\n",
      "         Gradient evaluations: 62\n",
      "Optimization terminated successfully.\n",
      "         Current function value: 14.937646\n",
      "         Iterations: 13\n",
      "         Function evaluations: 24\n",
      "         Gradient evaluations: 24\n",
      "Optimization terminated successfully.\n",
      "         Current function value: 31.878154\n",
      "         Iterations: 15\n",
      "         Function evaluations: 25\n",
      "         Gradient evaluations: 25\n"
     ]
    },
    {
     "data": {
      "text/plain": [
       "<matplotlib.legend.Legend at 0x10e796510>"
      ]
     },
     "execution_count": 20,
     "metadata": {},
     "output_type": "execute_result"
    },
    {
     "data": {
      "image/png": "[encoded data removed]",
      "text/plain": [
       "<matplotlib.figure.Figure at 0x10e07d050>"
      ]
     },
     "metadata": {},
     "output_type": "display_data"
    }
   ],
   "source": [
    "lambdas = (0, 0.001, 0.003, 0.01, 0.03, 0.1, 0.3, 1, 3, 10)\n",
    "\n",
    "error_train = []\n",
    "error_val = []\n",
    "for lambda_ in lambdas:\n",
    "    ### YOUR CODE HERE ###\n",
    "\n",
    "\n",
    "\n",
    "\n",
    "    ######################\n",
    "\n",
    "plt.plot(lambdas, error_train, 'b-', label='Train')\n",
    "plt.plot(lambdas, error_val, 'g-', label='Cross Validation')\n",
    "plt.title(r'Figure 9: Selecting $\\lambda$ using a cross validation set')\n",
    "plt.xlabel(r'$\\lambda$')\n",
    "plt.ylabel('Error')\n",
    "plt.legend(loc='upper right')"
   ]
  },
  {
   "cell_type": "markdown",
   "metadata": {},
   "source": [
    "## 3.4 Optional (ungraded) exercise: Computing test set error"
   ]
  },
  {
   "cell_type": "code",
   "execution_count": 21,
   "metadata": {
    "collapsed": false
   },
   "outputs": [
    {
     "name": "stdout",
     "output_type": "stream",
     "text": [
      "Optimization terminated successfully.\n",
      "         Current function value: 14.937646\n",
      "         Iterations: 13\n",
      "         Function evaluations: 24\n",
      "         Gradient evaluations: 24\n",
      "3.57202661971\n"
     ]
    }
   ],
   "source": [
    "cost_ = lambda t: cost(X_norm, y, t, 3.0)\n",
    "gradient_ = lambda t: gradient(X_norm, y, t, 3.0)\n",
    "theta = fmin_cg(cost_, np.zeros(p + 1), fprime=gradient_, maxiter=200)\n",
    "\n",
    "Xtest_norm = (poly_features(Xtest, p) - mu) / sigma\n",
    "print cost(Xtest_norm, ytest, theta, 0)"
   ]
  },
  {
   "cell_type": "code",
   "execution_count": null,
   "metadata": {
    "collapsed": true
   },
   "outputs": [],
   "source": []
  }
 ],
 "metadata": {
  "kernelspec": {
   "display_name": "Python [Root]",
   "language": "python",
   "name": "Python [Root]"
  },
  "language_info": {
   "codemirror_mode": {
    "name": "ipython",
    "version": 2
   },
   "file_extension": ".py",
   "mimetype": "text/x-python",
   "name": "python",
   "nbconvert_exporter": "python",
   "pygments_lexer": "ipython2",
   "version": "2.7.13"
  }
 },
 "nbformat": 4,
 "nbformat_minor": 2
}
