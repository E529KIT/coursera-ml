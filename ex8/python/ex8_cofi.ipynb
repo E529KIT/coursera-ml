{
 "cells": [
  {
   "cell_type": "markdown",
   "metadata": {},
   "source": [
    "# Programming Exercise 8: Anomaly Detection and Recommender Systems\n",
    "# 2 Recommender Systems\n",
    "## 2.1 Movie ratings dataset"
   ]
  },
  {
   "cell_type": "code",
   "execution_count": 1,
   "metadata": {
    "collapsed": false
   },
   "outputs": [
    {
     "name": "stdout",
     "output_type": "stream",
     "text": [
      "['Y', 'R', '__version__', '__header__', '__globals__']\n"
     ]
    }
   ],
   "source": [
    "import scipy.io\n",
    "\n",
    "data = scipy.io.loadmat('../matlab/ex8_movies.mat')\n",
    "print data.keys()"
   ]
  },
  {
   "cell_type": "code",
   "execution_count": 2,
   "metadata": {
    "collapsed": false
   },
   "outputs": [
    {
     "name": "stdout",
     "output_type": "stream",
     "text": [
      "(1682, 943) (1682, 943)\n"
     ]
    }
   ],
   "source": [
    "Y = data['Y']\n",
    "R = data['R']\n",
    "print Y.shape, R.shape"
   ]
  },
  {
   "cell_type": "code",
   "execution_count": 3,
   "metadata": {
    "collapsed": false
   },
   "outputs": [
    {
     "name": "stdout",
     "output_type": "stream",
     "text": [
      "[[5 4 0]\n",
      " [3 0 0]\n",
      " [4 0 0]]\n",
      "[[1 1 0]\n",
      " [1 0 0]\n",
      " [1 0 0]]\n"
     ]
    }
   ],
   "source": [
    "print Y[:3, :3]\n",
    "print R[:3, :3]"
   ]
  },
  {
   "cell_type": "code",
   "execution_count": 4,
   "metadata": {
    "collapsed": false
   },
   "outputs": [
    {
     "data": {
      "image/png": "[encoded data removed]",
      "text/plain": [
       "<matplotlib.figure.Figure at 0x10a3ac590>"
      ]
     },
     "metadata": {},
     "output_type": "display_data"
    }
   ],
   "source": [
    "import matplotlib.pyplot as plt\n",
    "import numpy as np\n",
    "% matplotlib inline\n",
    "\n",
    "plt.imshow(Y, cmap='YlOrRd')\n",
    "plt.ylabel('Movies')\n",
    "plt.xlabel('Users');"
   ]
  },
  {
   "cell_type": "markdown",
   "metadata": {},
   "source": [
    "## 2.2 Collaborative filtering learning algorithm"
   ]
  },
  {
   "cell_type": "code",
   "execution_count": 5,
   "metadata": {
    "collapsed": false
   },
   "outputs": [
    {
     "name": "stdout",
     "output_type": "stream",
     "text": [
      "['num_features', '__header__', '__globals__', 'num_users', 'X', 'Theta', '__version__', 'num_movies']\n"
     ]
    }
   ],
   "source": [
    "params = scipy.io.loadmat('../matlab/ex8_movieParams.mat')\n",
    "print params.keys()"
   ]
  },
  {
   "cell_type": "code",
   "execution_count": 6,
   "metadata": {
    "collapsed": false
   },
   "outputs": [
    {
     "name": "stdout",
     "output_type": "stream",
     "text": [
      "10 943 1682\n",
      "(1682, 10) (943, 10)\n"
     ]
    }
   ],
   "source": [
    "(num_features, num_users, num_movies) = (params['num_features'][0,0],\n",
    "                                         params['num_users'][0,0],\n",
    "                                         params['num_movies'][0,0])\n",
    "X = params['X']\n",
    "Theta = params['Theta']\n",
    "print num_features, num_users, num_movies\n",
    "print X.shape, Theta.shape"
   ]
  },
  {
   "cell_type": "markdown",
   "metadata": {},
   "source": [
    "### 2.2.1 Collaborative filtering cost function\n",
    "$J(x^{(1)},\\ldots,x^{(n_m)},\\theta^{(1)},\\ldots,\\theta^{(n_u)}) = \\frac{1}{2} \\sum_{(i, j): r(i, j)=1} ((\\theta^{(j)})^T x^{(i)} - y^{(i,j)})^2$"
   ]
  },
  {
   "cell_type": "code",
   "execution_count": 7,
   "metadata": {
    "collapsed": true
   },
   "outputs": [],
   "source": [
    "def cofi_cost(params, Y, R, num_users, num_movies, num_features, lambda_):\n",
    "    n = num_movies * num_features\n",
    "    X = np.reshape(params[:n], (num_movies, num_features))\n",
    "    Theta = np.reshape(params[n:], (num_users, num_features))\n",
    "    ### YOUR CODE HERE ###\n",
    "\n",
    "\n",
    "\n",
    "\n",
    "\n",
    "    ######################\n",
    "    return J, np.concatenate((X_grad.flatten(), Theta_grad.flatten()))"
   ]
  },
  {
   "cell_type": "code",
   "execution_count": 8,
   "metadata": {
    "collapsed": false
   },
   "outputs": [
    {
     "name": "stdout",
     "output_type": "stream",
     "text": [
      "22.2246037257\n"
     ]
    }
   ],
   "source": [
    "num_users_ = 4\n",
    "num_movies_ = 5\n",
    "num_features_ = 3\n",
    "X_ = X[:num_movies_, :num_features_]\n",
    "Theta_ = Theta[:num_users_, :num_features_]\n",
    "Y_ = Y[:num_movies_, :num_users_]\n",
    "R_ = R[:num_movies_, :num_users_]\n",
    "params_ = np.concatenate((X_.flatten(), Theta_.flatten()))\n",
    "J, grad =  cofi_cost(params_, Y_, R_, num_users_, num_movies_, num_features_, 0)\n",
    "print J"
   ]
  },
  {
   "cell_type": "markdown",
   "metadata": {},
   "source": [
    "### 2.2.2 Collaborative filtering gradient\n",
    "$\\frac{\\partial J}{\\partial x_k^{(i)}} = \\sum_{j: r(i, j) = 1} ((\\theta^{(j)})^T x^{(i)} - y^{(i, j)}) \\theta_k^{(j)}$\n",
    "\n",
    "$\\frac{\\partial J}{\\partial \\theta_k^{(j)}} = \\sum_{j: r(i, j) = 1} ((\\theta^{(j)})^T x^{(i)} - y^{(i, j)}) x_k^{(i)}$"
   ]
  },
  {
   "cell_type": "code",
   "execution_count": 9,
   "metadata": {
    "collapsed": false
   },
   "outputs": [
    {
     "name": "stdout",
     "output_type": "stream",
     "text": [
      "1.39457334569e-11\n"
     ]
    }
   ],
   "source": [
    "lambda_ = 0\n",
    "cost = lambda params: cofi_cost(params, Y_, R_,\n",
    "                                num_users_, num_movies_, num_features_, lambda_)[0]\n",
    "n = num_movies_ * num_features_ + num_users_ * num_features_\n",
    "correct_grad = np.zeros(n)\n",
    "eps = 1e-4\n",
    "for i in range(n):\n",
    "    delta = np.zeros(n)\n",
    "    delta[i] = eps\n",
    "    correct_grad[i] = 0.5 / eps * (cost(params_ + delta) - cost(params_ - delta))\n",
    "\n",
    "print max(abs(grad - correct_grad))"
   ]
  },
  {
   "cell_type": "markdown",
   "metadata": {},
   "source": [
    "## 2.2.3 Regularized cost function\n",
    "$J(x^{(1)},\\ldots,x^{(n_m)},\\theta^{(1)},\\ldots,\\theta^{(n_u)}) = \\frac{1}{2} \\sum_{(i, j): r(i, j)=1} ((\\theta^{(j)})^T x^{(i)} - y^{(i,j)})^2 + \\frac{\\lambda}{2} \\sum_{j=1}^{n_u} \\sum_{k=1}^{n} (\\theta_k^{(j)})^2 + \\frac{\\lambda}{2} \\sum_{i=1}^{n_m} \\sum_{k=1}^{n} (x_k^{(i)})^2$"
   ]
  },
  {
   "cell_type": "code",
   "execution_count": 10,
   "metadata": {
    "collapsed": false
   },
   "outputs": [
    {
     "name": "stdout",
     "output_type": "stream",
     "text": [
      "31.3440562443\n"
     ]
    }
   ],
   "source": [
    "lambda_ = 1.5\n",
    "J, grad =  cofi_cost(params_, Y_, R_, num_users_, num_movies_, num_features_, lambda_)\n",
    "print J"
   ]
  },
  {
   "cell_type": "markdown",
   "metadata": {},
   "source": [
    "### 2.2.4 Regularized gradient\n",
    "$\\frac{\\partial J}{\\partial x_k^{(i)}} = \\sum_{j: r(i, j) = 1} ((\\theta^{(j)})^T x^{(i)} - y^{(i, j)}) \\theta_k^{(j)} + \\lambda x_k^{(i)}$\n",
    "\n",
    "$\\frac{\\partial J}{\\partial \\theta_k^{(j)}} = \\sum_{j: r(i, j) = 1} ((\\theta^{(j)})^T x^{(i)} - y^{(i, j)}) x_k^{(i)} + \\lambda \\theta_k^{(j)}$"
   ]
  },
  {
   "cell_type": "code",
   "execution_count": 11,
   "metadata": {
    "collapsed": false
   },
   "outputs": [
    {
     "name": "stdout",
     "output_type": "stream",
     "text": [
      "1.98383531824e-11\n"
     ]
    }
   ],
   "source": [
    "correct_grad = np.zeros(n)\n",
    "for i in range(n):\n",
    "    delta = np.zeros(n)\n",
    "    delta[i] = eps\n",
    "    correct_grad[i] = 0.5 / eps * (cost(params_ + delta) - cost(params_ - delta))\n",
    "\n",
    "print max(abs(grad - correct_grad))"
   ]
  },
  {
   "cell_type": "markdown",
   "metadata": {},
   "source": [
    "## 2.3 Learning movie recommendations"
   ]
  },
  {
   "cell_type": "code",
   "execution_count": 12,
   "metadata": {
    "collapsed": false
   },
   "outputs": [
    {
     "name": "stdout",
     "output_type": "stream",
     "text": [
      "['Toy Story (1995)', 'GoldenEye (1995)', 'Four Rooms (1995)', 'Get Shorty (1995)', 'Copycat (1995)']\n"
     ]
    }
   ],
   "source": [
    "movies = []\n",
    "with open('../matlab/movie_ids.txt') as f:\n",
    "    for line in f:\n",
    "        fields = line.split()\n",
    "        movies.append(' '.join(fields[1:]))\n",
    "print movies[:5]"
   ]
  },
  {
   "cell_type": "code",
   "execution_count": 13,
   "metadata": {
    "collapsed": false
   },
   "outputs": [
    {
     "name": "stdout",
     "output_type": "stream",
     "text": [
      "Rated 4 for Toy Story (1995)\n",
      "Rated 3 for Twelve Monkeys (1995)\n",
      "Rated 5 for Usual Suspects, The (1995)\n",
      "Rated 4 for Outbreak (1995)\n",
      "Rated 5 for Shawshank Redemption, The (1994)\n",
      "Rated 3 for While You Were Sleeping (1995)\n",
      "Rated 5 for Forrest Gump (1994)\n",
      "Rated 2 for Silence of the Lambs, The (1991)\n",
      "Rated 4 for Alien (1979)\n",
      "Rated 5 for Die Hard 2 (1990)\n",
      "Rated 5 for Sphere (1998)\n"
     ]
    }
   ],
   "source": [
    "my_ratings = np.zeros(num_movies)\n",
    "my_ratings[0] = 4\n",
    "my_ratings[97] = 2\n",
    "my_ratings[6] = 3\n",
    "my_ratings[11] = 5\n",
    "my_ratings[53] = 4\n",
    "my_ratings[63] = 5\n",
    "my_ratings[65] = 3\n",
    "my_ratings[68] = 5\n",
    "my_ratings[182] = 4\n",
    "my_ratings[225] = 5\n",
    "my_ratings[354] = 5\n",
    "\n",
    "for i in range(num_movies):\n",
    "    if my_ratings[i] > 0:\n",
    "        print 'Rated %d for %s' % (my_ratings[i], movies[i])"
   ]
  },
  {
   "cell_type": "code",
   "execution_count": 14,
   "metadata": {
    "collapsed": true
   },
   "outputs": [],
   "source": [
    "Y = np.column_stack((my_ratings, Y))\n",
    "R = np.column_stack((my_ratings > 0, R))"
   ]
  },
  {
   "cell_type": "code",
   "execution_count": 15,
   "metadata": {
    "collapsed": false
   },
   "outputs": [],
   "source": [
    "def normalize_ratings(Y, R):\n",
    "    m, _ = Y.shape\n",
    "    Ymean = np.zeros(m)\n",
    "    Ynorm = np.zeros(Y.shape)\n",
    "    for i in range(m):\n",
    "        nonzeros = R[i, :] > 0\n",
    "        Ymean[i] = Y[i, nonzeros].mean()\n",
    "        Ynorm[i, nonzeros] = Y[i, nonzeros] - Ymean[i]\n",
    "    return Ynorm, Ymean\n",
    "\n",
    "Ynorm, Ymean = normalize_ratings(Y, R)\n",
    "num_movies, num_users = Y.shape\n",
    "num_features = 10"
   ]
  },
  {
   "cell_type": "code",
   "execution_count": 16,
   "metadata": {
    "collapsed": false
   },
   "outputs": [],
   "source": [
    "X = np.random.randn(num_movies, num_features)\n",
    "Theta = np.random.randn(num_users, num_features)\n",
    "initial_params = np.concatenate((X.flatten(), Theta.flatten()))"
   ]
  },
  {
   "cell_type": "code",
   "execution_count": 17,
   "metadata": {
    "collapsed": false
   },
   "outputs": [
    {
     "name": "stdout",
     "output_type": "stream",
     "text": [
      "Warning: Maximum number of iterations has been exceeded.\n",
      "         Current function value: 38959.112341\n",
      "         Iterations: 100\n",
      "         Function evaluations: 150\n",
      "         Gradient evaluations: 150\n"
     ]
    }
   ],
   "source": [
    "from scipy.optimize import fmin_cg\n",
    "\n",
    "lambda_ = 10\n",
    "# This is inefficient!\n",
    "cost = lambda params: cofi_cost(params, Ynorm, R,\n",
    "                                num_users, num_movies, num_features, lambda_)[0]\n",
    "grad = lambda params: cofi_cost(params, Ynorm, R,\n",
    "                                num_users, num_movies, num_features, lambda_)[1]\n",
    "params = fmin_cg(cost, initial_params, fprime=grad, maxiter=100)"
   ]
  },
  {
   "cell_type": "code",
   "execution_count": 18,
   "metadata": {
    "collapsed": true
   },
   "outputs": [],
   "source": [
    "n = num_movies * num_features\n",
    "X = np.reshape(params[:n], (num_movies, num_features))\n",
    "Theta = np.reshape(params[n:], (num_users, num_features))\n",
    "p = np.dot(X, Theta.T)\n",
    "my_predictions = p[:,0] + Ymean"
   ]
  },
  {
   "cell_type": "code",
   "execution_count": 19,
   "metadata": {
    "collapsed": false
   },
   "outputs": [
    {
     "name": "stdout",
     "output_type": "stream",
     "text": [
      "Predicting rating 5.0 for movie Entertaining Angels: The Dorothy Day Story (1996)\n",
      "Predicting rating 5.0 for movie Aiqing wansui (1994)\n",
      "Predicting rating 5.0 for movie Someone Else's America (1995)\n",
      "Predicting rating 5.0 for movie They Made Me a Criminal (1939)\n",
      "Predicting rating 5.0 for movie Prefontaine (1997)\n",
      "Predicting rating 5.0 for movie Saint of Fort Washington, The (1993)\n",
      "Predicting rating 5.0 for movie Star Kid (1997)\n",
      "Predicting rating 5.0 for movie Santa with Muscles (1996)\n",
      "Predicting rating 5.0 for movie Marlene Dietrich: Shadow and Light (1996)\n",
      "Predicting rating 5.0 for movie Great Day in Harlem, A (1994)\n",
      "Predicting rating 4.6 for movie Pather Panchali (1955)\n",
      "Predicting rating 4.6 for movie Star Wars (1977)\n",
      "Predicting rating 4.6 for movie Shawshank Redemption, The (1994)\n",
      "Predicting rating 4.5 for movie Maya Lin: A Strong Clear Vision (1994)\n",
      "Predicting rating 4.5 for movie Wrong Trousers, The (1993)\n",
      "Predicting rating 4.5 for movie Anna (1996)\n",
      "Predicting rating 4.5 for movie Some Mother's Son (1996)\n",
      "Predicting rating 4.5 for movie Everest (1998)\n",
      "Predicting rating 4.5 for movie Schindler's List (1993)\n",
      "Predicting rating 4.5 for movie Raiders of the Lost Ark (1981)\n"
     ]
    }
   ],
   "source": [
    "for i in (-my_predictions).argsort()[:20]:\n",
    "    print 'Predicting rating %.1f for movie %s' % (my_predictions[i], movies[i])"
   ]
  },
  {
   "cell_type": "code",
   "execution_count": null,
   "metadata": {
    "collapsed": true
   },
   "outputs": [],
   "source": []
  }
 ],
 "metadata": {
  "kernelspec": {
   "display_name": "Python [Root]",
   "language": "python",
   "name": "Python [Root]"
  },
  "language_info": {
   "codemirror_mode": {
    "name": "ipython",
    "version": 2
   },
   "file_extension": ".py",
   "mimetype": "text/x-python",
   "name": "python",
   "nbconvert_exporter": "python",
   "pygments_lexer": "ipython2",
   "version": "2.7.13"
  }
 },
 "nbformat": 4,
 "nbformat_minor": 2
}
