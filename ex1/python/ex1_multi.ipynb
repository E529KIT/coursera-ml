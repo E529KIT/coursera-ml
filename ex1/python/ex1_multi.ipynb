{
 "cells": [
  {
   "cell_type": "markdown",
   "metadata": {},
   "source": [
    "# Programming Exercise 1: Linear Regression\n",
    "# Optional Exercises\n",
    "# 3 Linear regression with multiple variables"
   ]
  },
  {
   "cell_type": "code",
   "execution_count": 1,
   "metadata": {
    "collapsed": false
   },
   "outputs": [
    {
     "name": "stdout",
     "output_type": "stream",
     "text": [
      "First 10 examples from the dataset:\n",
      " x = [2104, 3], y = 399900\n",
      " x = [1600, 3], y = 329900\n",
      " x = [2400, 3], y = 369000\n",
      " x = [1416, 2], y = 232000\n",
      " x = [3000, 4], y = 539900\n",
      " x = [1985, 4], y = 299900\n",
      " x = [1534, 3], y = 314900\n",
      " x = [1427, 3], y = 198999\n",
      " x = [1380, 3], y = 212000\n",
      " x = [1494, 3], y = 242500\n"
     ]
    }
   ],
   "source": [
    "import csv\n",
    "\n",
    "xs = []\n",
    "ys = []\n",
    "with open('../matlab/ex1data2.txt') as f:\n",
    "    csv_reader = csv.reader(f)\n",
    "    for row in csv_reader:\n",
    "        xs.append(map(float, row[:-1]))\n",
    "        ys.append(float(row[-1]))\n",
    "    m = len(ys)\n",
    "\n",
    "print 'First 10 examples from the dataset:'\n",
    "for x, y in zip(xs, ys)[:10]:\n",
    "    print ' x = [%.0f, %.0f], y = %.0f' % (x[0], x[1], y)"
   ]
  },
  {
   "cell_type": "markdown",
   "metadata": {},
   "source": [
    "## 3.1 Feature Normalization"
   ]
  },
  {
   "cell_type": "code",
   "execution_count": 2,
   "metadata": {
    "collapsed": false
   },
   "outputs": [
    {
     "name": "stdout",
     "output_type": "stream",
     "text": [
      "[[ 1.          0.13141542 -0.22609337]\n",
      " [ 1.         -0.5096407  -0.22609337]\n",
      " [ 1.          0.5079087  -0.22609337]\n",
      " [ 1.         -0.74367706 -1.5543919 ]\n",
      " [ 1.          1.27107075  1.10220517]\n",
      " [ 1.         -0.01994505  1.10220517]\n",
      " [ 1.         -0.59358852 -0.22609337]\n",
      " [ 1.         -0.72968575 -0.22609337]\n",
      " [ 1.         -0.78946678 -0.22609337]\n",
      " [ 1.         -0.64446599 -0.22609337]]\n"
     ]
    }
   ],
   "source": [
    "import numpy as np\n",
    "\n",
    "def feature_normalize(X):\n",
    "    m, n = X.shape\n",
    "    X_norm = X\n",
    "    mu = np.zeros(n)\n",
    "    sigma = np.zeros(n)\n",
    "    ### YOUR CODE HERE ###\n",
    "\n",
    "\n",
    "\n",
    "    ######################\n",
    "    return X_norm, mu, sigma\n",
    "\n",
    "X = np.array(xs)\n",
    "y = np.array([ys]).T\n",
    "X_norm, mu, sigma = feature_normalize(X)\n",
    "X = np.column_stack((np.ones((m, 1)), X_norm))\n",
    "print X[:10,:]"
   ]
  },
  {
   "cell_type": "markdown",
   "metadata": {},
   "source": [
    "## 3.2 Gradient Descent\n",
    "$J(\\theta) = \\frac{1}{2m} \\sum_{i=1}^{m} (h_\\theta(x^{(i)}) - y^{(i)})^2$\n",
    "\n",
    "$h_\\theta(x) = \\theta^Tx = \\theta_0 + \\theta_1 x_1$\n",
    "\n",
    "$\\theta_j := \\theta_j - \\alpha \\frac{1}{m} \\sum_{i=1}^{m} (h_\\theta(x^{(i)}) - y^{(i)}) x_j^{(i)}$"
   ]
  },
  {
   "cell_type": "code",
   "execution_count": 3,
   "metadata": {
    "collapsed": false
   },
   "outputs": [],
   "source": [
    "_, n = X.shape\n",
    "theta = np.zeros((n, 1))\n",
    "iterations = 100\n",
    "alpha = 0.01"
   ]
  },
  {
   "cell_type": "markdown",
   "metadata": {},
   "source": [
    "### Computing the cost $J(\\theta)$"
   ]
  },
  {
   "cell_type": "code",
   "execution_count": 4,
   "metadata": {
    "collapsed": false
   },
   "outputs": [
    {
     "name": "stdout",
     "output_type": "stream",
     "text": [
      "6.559155e+10\n"
     ]
    }
   ],
   "source": [
    "def compute_cost(X, y, theta):\n",
    "    m, _ = y.shape\n",
    "    J = 0\n",
    "    ### YOUR CODE HERE ###\n",
    "\n",
    "\n",
    "    ######################\n",
    "    return J\n",
    "\n",
    "print '%e' % compute_cost(X, y, theta)  # Should be 6.56 * 10^10"
   ]
  },
  {
   "cell_type": "markdown",
   "metadata": {},
   "source": [
    "### Gradient descent"
   ]
  },
  {
   "cell_type": "code",
   "execution_count": 5,
   "metadata": {
    "collapsed": false
   },
   "outputs": [
    {
     "name": "stdout",
     "output_type": "stream",
     "text": [
      "[[ 215810.61679138]\n",
      " [  61446.18781361]\n",
      " [  20070.13313796]]\n",
      "1.059697e+10\n"
     ]
    }
   ],
   "source": [
    "def gradient_descent(X, y, theta, alpha, num_iters):\n",
    "    m, _ = y.shape\n",
    "    J_history = []\n",
    "    for _ in range(num_iters):\n",
    "        ### YOUR CODE HERE ###\n",
    "\n",
    "\n",
    "        \n",
    "        ######################\n",
    "        J_history.append(compute_cost(X, y, theta))\n",
    "    return theta, J_history\n",
    "\n",
    "theta, J_history = gradient_descent(X, y, theta, alpha, iterations)\n",
    "print theta\n",
    "print '%e' % J_history[-1]"
   ]
  },
  {
   "cell_type": "markdown",
   "metadata": {},
   "source": [
    "### 3.2.1 Optional (ungraded) exercise: Selecting learning rates"
   ]
  },
  {
   "cell_type": "code",
   "execution_count": 6,
   "metadata": {
    "collapsed": false
   },
   "outputs": [
    {
     "data": {
      "text/plain": [
       "<matplotlib.legend.Legend at 0x103dcc950>"
      ]
     },
     "execution_count": 6,
     "metadata": {},
     "output_type": "execute_result"
    },
    {
     "data": {
      "image/png": "[encoded data removed]",
      "text/plain": [
       "<matplotlib.figure.Figure at 0x10488d510>"
      ]
     },
     "metadata": {},
     "output_type": "display_data"
    }
   ],
   "source": [
    "import matplotlib.pyplot as plt\n",
    "% matplotlib inline\n",
    "\n",
    "alphas = (0.3, 0.1, 0.03, 0.01)\n",
    "colors = ('brown', 'r', 'tomato', 'lightsalmon')\n",
    "for alpha, color in zip(alphas, colors):\n",
    "    theta = np.zeros((n, 1))\n",
    "    _, J_history = gradient_descent(X, y, theta, alpha, iterations)\n",
    "    plt.plot(J_history, color, label='alpha = %.2f' % alpha)\n",
    "plt.title('Figure 4: Convergence of gradient descent')\n",
    "plt.xlabel('Number of iterations')\n",
    "plt.ylabel(r'Cost $J(\\theta)$')\n",
    "plt.legend(loc='upper right')"
   ]
  },
  {
   "cell_type": "code",
   "execution_count": null,
   "metadata": {
    "collapsed": true
   },
   "outputs": [],
   "source": []
  }
 ],
 "metadata": {
  "kernelspec": {
   "display_name": "Python [Root]",
   "language": "python",
   "name": "Python [Root]"
  },
  "language_info": {
   "codemirror_mode": {
    "name": "ipython",
    "version": 2
   },
   "file_extension": ".py",
   "mimetype": "text/x-python",
   "name": "python",
   "nbconvert_exporter": "python",
   "pygments_lexer": "ipython2",
   "version": "2.7.13"
  }
 },
 "nbformat": 4,
 "nbformat_minor": 2
}
